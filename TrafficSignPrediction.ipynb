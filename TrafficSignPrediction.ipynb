{
 "cells": [
  {
   "cell_type": "markdown",
   "metadata": {},
   "source": [
    "<h1 style=\"text-align: center\">Traffic Signs Recognition using CNN and Keras</h1>"
   ]
  },
  {
   "cell_type": "markdown",
   "metadata": {},
   "source": [
    "<h3>1. Importing the required libraries</h3>\n",
    "\n",
    "<p>I have created a virtual environment called 'venv' and installed the required libraries in it</p>"
   ]
  },
  {
   "cell_type": "code",
   "execution_count": 1,
   "metadata": {},
   "outputs": [],
   "source": [
    "import numpy as np\n",
    "import pandas as pd\n",
    "import matplotlib.pyplot as plt\n",
    "from PIL import Image\n",
    "import os\n",
    "\n",
    "from sklearn.model_selection import train_test_split\n",
    "from keras.utils import to_categorical\n",
    "from keras.models import Sequential\n",
    "from sklearn.metrics import accuracy_score\n",
    "from keras.layers import Conv2D, MaxPooling2D, Dense, Flatten, Dropout"
   ]
  },
  {
   "cell_type": "markdown",
   "metadata": {},
   "source": [
    "<h3>2. Exploring the dataset</h3>\n",
    "\n",
    "<p>In our 'train' folder, we have 43 folders each of representing different class. The range of folder is from 0 to 42</p>\n",
    "\n",
    "<p>We iterate over all classes and append the labels and images in their representive lists.</p>"
   ]
  },
  {
   "cell_type": "markdown",
   "metadata": {},
   "source": [
    "<p>We have stored all the images and their labels into lists.</p>\n",
    "\n",
    "<p>And we converted the python list to numpy arrays for feeding to the model.</p>"
   ]
  },
  {
   "cell_type": "code",
   "execution_count": 2,
   "metadata": {},
   "outputs": [],
   "source": [
    "data=[]\n",
    "labels=[]\n",
    "classes=43\n",
    "img_resize=(30, 30)\n",
    "cur_path=os.getcwd()\n",
    "\n",
    "for i in range(classes):\n",
    "    path=os.path.join(cur_path, \"archive\", 'train', str(i))\n",
    "    images=os.listdir(path)\n",
    "\n",
    "    for j in images:\n",
    "        try:\n",
    "            image=Image.open(path+\"\\\\\"+j)\n",
    "            image=image.resize(img_resize)\n",
    "            image=np.array(image)\n",
    "            data.append(image)\n",
    "            labels.append(i)\n",
    "        except:\n",
    "            print(\"Error loading image\")\n",
    "\n",
    "data=np.array(data)\n",
    "labels=np.array(labels)"
   ]
  },
  {
   "cell_type": "code",
   "execution_count": 3,
   "metadata": {},
   "outputs": [
    {
     "name": "stdout",
     "output_type": "stream",
     "text": [
      "Data Shape: (39209, 30, 30, 3)\n",
      "Labels Shape: (39209,)\n"
     ]
    }
   ],
   "source": [
    "print(\"Data Shape: \"+str(data.shape))\n",
    "print(\"Labels Shape: \"+str(labels.shape))"
   ]
  },
  {
   "cell_type": "markdown",
   "metadata": {},
   "source": [
    "<p>The shape of data is (39209, 30, 30, 3), which means that there are 39209 images of 30x30 pixels and 3 indicates that data contains colored images(RGB values)</p>"
   ]
  },
  {
   "cell_type": "markdown",
   "metadata": {},
   "source": [
    "<p>We use train_test_split() method from sklearn library to split the data for training and testing purpose.</p>"
   ]
  },
  {
   "cell_type": "code",
   "execution_count": 4,
   "metadata": {},
   "outputs": [
    {
     "name": "stdout",
     "output_type": "stream",
     "text": [
      "(31367, 30, 30, 3) (7842, 30, 30, 3)\n",
      "(31367,) (7842,)\n"
     ]
    }
   ],
   "source": [
    "X_train, X_test, y_train, y_test=train_test_split(data, labels, test_size=0.2, random_state=42)\n",
    "\n",
    "print(X_train.shape, X_test.shape)\n",
    "print(y_train.shape, y_test.shape)"
   ]
  },
  {
   "cell_type": "markdown",
   "metadata": {},
   "source": [
    "<p>From 'keras.utils' package we use    `to_categorical` method to convert labels present in y_train and y_test into one-hot encoding.</p>"
   ]
  },
  {
   "cell_type": "code",
   "execution_count": 5,
   "metadata": {},
   "outputs": [],
   "source": [
    "y_train=to_categorical(y_train, 43)\n",
    "y_test=to_categorical(y_test, 43)"
   ]
  },
  {
   "cell_type": "markdown",
   "metadata": {},
   "source": [
    "<h3>3. Build a CNN model</h3>\n",
    "\n",
    "<p>To classify images into their respective categories, we build a Convolutional Neural Network(CNN) model</p>"
   ]
  },
  {
   "cell_type": "code",
   "execution_count": 6,
   "metadata": {},
   "outputs": [],
   "source": [
    "model=Sequential()\n",
    "\n",
    "model.add(Conv2D(filters=32, kernel_size=(5, 5), activation=\"relu\", input_shape=X_train.shape[1:]))\n",
    "model.add(Conv2D(filters=32, kernel_size=(5, 5), activation=\"relu\"))\n",
    "model.add(MaxPooling2D(pool_size=(2, 2)))\n",
    "model.add(Dropout(rate=0.25))\n",
    "\n",
    "model.add(Conv2D(filters=64, kernel_size=(3, 3), activation=\"relu\"))\n",
    "model.add(Conv2D(filters=64, kernel_size=(3, 3), activation=\"relu\"))\n",
    "model.add(MaxPooling2D(pool_size=(2, 2)))\n",
    "model.add(Dropout(rate=0.25))\n",
    "\n",
    "model.add(Flatten())\n",
    "model.add(Dense(256, activation=\"relu\"))\n",
    "model.add(Dropout(rate=0.5))\n",
    "model.add(Dense(43, activation=\"softmax\"))\n",
    "\n",
    "# Compilation of the model\n",
    "model.compile(loss=\"categorical_crossentropy\", optimizer=\"adam\", metrics=[\"accuracy\"])"
   ]
  },
  {
   "cell_type": "code",
   "execution_count": 7,
   "metadata": {},
   "outputs": [
    {
     "name": "stdout",
     "output_type": "stream",
     "text": [
      "Model: \"sequential\"\n",
      "_________________________________________________________________\n",
      " Layer (type)                Output Shape              Param #   \n",
      "=================================================================\n",
      " conv2d (Conv2D)             (None, 26, 26, 32)        2432      \n",
      "                                                                 \n",
      " conv2d_1 (Conv2D)           (None, 22, 22, 32)        25632     \n",
      "                                                                 \n",
      " max_pooling2d (MaxPooling2D  (None, 11, 11, 32)       0         \n",
      " )                                                               \n",
      "                                                                 \n",
      " dropout (Dropout)           (None, 11, 11, 32)        0         \n",
      "                                                                 \n",
      " conv2d_2 (Conv2D)           (None, 9, 9, 64)          18496     \n",
      "                                                                 \n",
      " conv2d_3 (Conv2D)           (None, 7, 7, 64)          36928     \n",
      "                                                                 \n",
      " max_pooling2d_1 (MaxPooling  (None, 3, 3, 64)         0         \n",
      " 2D)                                                             \n",
      "                                                                 \n",
      " dropout_1 (Dropout)         (None, 3, 3, 64)          0         \n",
      "                                                                 \n",
      " flatten (Flatten)           (None, 576)               0         \n",
      "                                                                 \n",
      " dense (Dense)               (None, 256)               147712    \n",
      "                                                                 \n",
      " dropout_2 (Dropout)         (None, 256)               0         \n",
      "                                                                 \n",
      " dense_1 (Dense)             (None, 43)                11051     \n",
      "                                                                 \n",
      "=================================================================\n",
      "Total params: 242,251\n",
      "Trainable params: 242,251\n",
      "Non-trainable params: 0\n",
      "_________________________________________________________________\n"
     ]
    }
   ],
   "source": [
    "model.summary()"
   ]
  },
  {
   "cell_type": "markdown",
   "metadata": {},
   "source": [
    "<h3>4. Train and validate the model</h3>\n",
    "\n",
    "<p>After building the model architecture, we train the model using `model.fit()`</p>\n",
    "\n",
    "<p>I have tried with batch size of 32 and 64. Batch Size of (32) has accuracy of 91.89% where as Batch Size of (64) has accuracy of 95.36%</p>"
   ]
  },
  {
   "cell_type": "code",
   "execution_count": 8,
   "metadata": {},
   "outputs": [
    {
     "name": "stdout",
     "output_type": "stream",
     "text": [
      "Epoch 1/15\n",
      "981/981 [==============================] - 74s 73ms/step - loss: 2.9615 - accuracy: 0.2369 - val_loss: 0.9945 - val_accuracy: 0.7072\n",
      "Epoch 2/15\n",
      "981/981 [==============================] - 76s 78ms/step - loss: 1.1225 - accuracy: 0.6658 - val_loss: 0.5073 - val_accuracy: 0.8486\n",
      "Epoch 3/15\n",
      "981/981 [==============================] - 68s 70ms/step - loss: 0.7819 - accuracy: 0.7637 - val_loss: 0.4519 - val_accuracy: 0.8695\n",
      "Epoch 4/15\n",
      "981/981 [==============================] - 68s 69ms/step - loss: 0.6125 - accuracy: 0.8162 - val_loss: 0.2919 - val_accuracy: 0.9183\n",
      "Epoch 5/15\n",
      "981/981 [==============================] - 71s 73ms/step - loss: 0.4908 - accuracy: 0.8510 - val_loss: 0.2325 - val_accuracy: 0.9313\n",
      "Epoch 6/15\n",
      "981/981 [==============================] - 72s 73ms/step - loss: 0.4372 - accuracy: 0.8683 - val_loss: 0.2054 - val_accuracy: 0.9365\n",
      "Epoch 7/15\n",
      "981/981 [==============================] - 72s 73ms/step - loss: 0.3884 - accuracy: 0.8848 - val_loss: 0.1488 - val_accuracy: 0.9566\n",
      "Epoch 8/15\n",
      "981/981 [==============================] - 73s 74ms/step - loss: 0.3568 - accuracy: 0.8967 - val_loss: 0.1246 - val_accuracy: 0.9634\n",
      "Epoch 9/15\n",
      "981/981 [==============================] - 73s 74ms/step - loss: 0.3251 - accuracy: 0.9061 - val_loss: 0.1076 - val_accuracy: 0.9689\n",
      "Epoch 10/15\n",
      "981/981 [==============================] - 73s 74ms/step - loss: 0.3210 - accuracy: 0.9078 - val_loss: 0.1185 - val_accuracy: 0.9652\n",
      "Epoch 11/15\n",
      "981/981 [==============================] - 72s 73ms/step - loss: 0.2934 - accuracy: 0.9129 - val_loss: 0.1040 - val_accuracy: 0.9699\n",
      "Epoch 12/15\n",
      "981/981 [==============================] - 72s 73ms/step - loss: 0.2879 - accuracy: 0.9169 - val_loss: 0.0985 - val_accuracy: 0.9721\n",
      "Epoch 13/15\n",
      "981/981 [==============================] - 72s 73ms/step - loss: 0.2776 - accuracy: 0.9199 - val_loss: 0.0962 - val_accuracy: 0.9732\n",
      "Epoch 14/15\n",
      "981/981 [==============================] - 73s 74ms/step - loss: 0.2662 - accuracy: 0.9237 - val_loss: 0.0829 - val_accuracy: 0.9760\n",
      "Epoch 15/15\n",
      "981/981 [==============================] - 72s 74ms/step - loss: 0.2822 - accuracy: 0.9189 - val_loss: 0.1141 - val_accuracy: 0.9661\n"
     ]
    }
   ],
   "source": [
    "epochs=15\n",
    "history_32_batch_size=model.fit(X_train, y_train, batch_size=32, epochs=epochs, validation_data=(X_test, y_test))"
   ]
  },
  {
   "cell_type": "code",
   "execution_count": 9,
   "metadata": {},
   "outputs": [
    {
     "name": "stdout",
     "output_type": "stream",
     "text": [
      "Epoch 1/15\n",
      "491/491 [==============================] - 60s 122ms/step - loss: 0.1798 - accuracy: 0.9463 - val_loss: 0.0569 - val_accuracy: 0.9832\n",
      "Epoch 2/15\n",
      "491/491 [==============================] - 62s 126ms/step - loss: 0.1736 - accuracy: 0.9505 - val_loss: 0.0567 - val_accuracy: 0.9837\n",
      "Epoch 3/15\n",
      "491/491 [==============================] - 62s 127ms/step - loss: 0.1750 - accuracy: 0.9478 - val_loss: 0.0591 - val_accuracy: 0.9848\n",
      "Epoch 4/15\n",
      "491/491 [==============================] - 62s 127ms/step - loss: 0.1794 - accuracy: 0.9486 - val_loss: 0.0826 - val_accuracy: 0.9787\n",
      "Epoch 5/15\n",
      "491/491 [==============================] - 63s 127ms/step - loss: 0.1761 - accuracy: 0.9491 - val_loss: 0.0609 - val_accuracy: 0.9823\n",
      "Epoch 6/15\n",
      "491/491 [==============================] - 63s 128ms/step - loss: 0.1763 - accuracy: 0.9485 - val_loss: 0.0738 - val_accuracy: 0.9779\n",
      "Epoch 7/15\n",
      "491/491 [==============================] - 62s 127ms/step - loss: 0.1785 - accuracy: 0.9490 - val_loss: 0.0608 - val_accuracy: 0.9842\n",
      "Epoch 8/15\n",
      "491/491 [==============================] - 62s 126ms/step - loss: 0.1894 - accuracy: 0.9449 - val_loss: 0.0553 - val_accuracy: 0.9844\n",
      "Epoch 9/15\n",
      "491/491 [==============================] - 67s 136ms/step - loss: 0.1795 - accuracy: 0.9474 - val_loss: 0.0465 - val_accuracy: 0.9871\n",
      "Epoch 10/15\n",
      "491/491 [==============================] - 63s 128ms/step - loss: 0.1765 - accuracy: 0.9514 - val_loss: 0.0607 - val_accuracy: 0.9827\n",
      "Epoch 11/15\n",
      "491/491 [==============================] - 64s 130ms/step - loss: 0.1544 - accuracy: 0.9546 - val_loss: 0.0593 - val_accuracy: 0.9842\n",
      "Epoch 12/15\n",
      "491/491 [==============================] - 63s 129ms/step - loss: 0.1845 - accuracy: 0.9485 - val_loss: 0.0509 - val_accuracy: 0.9858\n",
      "Epoch 13/15\n",
      "491/491 [==============================] - 63s 129ms/step - loss: 0.1879 - accuracy: 0.9477 - val_loss: 0.0584 - val_accuracy: 0.9828\n",
      "Epoch 14/15\n",
      "491/491 [==============================] - 62s 127ms/step - loss: 0.1649 - accuracy: 0.9549 - val_loss: 0.0766 - val_accuracy: 0.9783\n",
      "Epoch 15/15\n",
      "491/491 [==============================] - 63s 129ms/step - loss: 0.1648 - accuracy: 0.9536 - val_loss: 0.0523 - val_accuracy: 0.9844\n"
     ]
    }
   ],
   "source": [
    "epochs=15\n",
    "history_64_batch_size=model.fit(X_train, y_train, batch_size=64, epochs=epochs, validation_data=(X_test, y_test))"
   ]
  },
  {
   "cell_type": "code",
   "execution_count": 10,
   "metadata": {},
   "outputs": [],
   "source": [
    "#Saving the model\n",
    "model.save(\"my_model.h5\")"
   ]
  },
  {
   "cell_type": "code",
   "execution_count": 11,
   "metadata": {},
   "outputs": [
    {
     "data": {
      "image/png": "[encoded data removed]",
      "text/plain": [
       "<Figure size 720x360 with 1 Axes>"
      ]
     },
     "metadata": {
      "needs_background": "light"
     },
     "output_type": "display_data"
    }
   ],
   "source": [
    "# Plotting the graph for accuracy\n",
    "plt.figure(figsize=(10, 5))\n",
    "plt.plot(history_64_batch_size.history[\"accuracy\"], label=\"Training Accuracy\")\n",
    "plt.plot(history_64_batch_size.history[\"val_accuracy\"], label=\"Val Accuracy\")\n",
    "plt.title(\"Accuracy\")\n",
    "plt.xlabel(\"epochs\")\n",
    "plt.ylabel(\"accuracy\")\n",
    "plt.legend()\n",
    "plt.show()"
   ]
  },
  {
   "cell_type": "code",
   "execution_count": 12,
   "metadata": {},
   "outputs": [
    {
     "data": {
      "image/png": "[encoded data removed]",
      "text/plain": [
       "<Figure size 720x360 with 1 Axes>"
      ]
     },
     "metadata": {
      "needs_background": "light"
     },
     "output_type": "display_data"
    }
   ],
   "source": [
    "# Plotting the graph for loss\n",
    "plt.figure(figsize=(10, 5))\n",
    "plt.plot(history_64_batch_size.history[\"loss\"], label=\"Training Loss\")\n",
    "plt.plot(history_64_batch_size.history[\"val_loss\"], label=\"Val Loss\")\n",
    "plt.title(\"Loss\")\n",
    "plt.xlabel(\"epochs\")\n",
    "plt.ylabel(\"loss\")\n",
    "plt.legend()\n",
    "plt.show()"
   ]
  },
  {
   "cell_type": "markdown",
   "metadata": {},
   "source": [
    "<h3>5. Testing our model with test dataset</h3>\n",
    "\n",
    "<p>Dataset contains a test folder and in a test.csv file, we have details related to image path and their respective class labels.</p>"
   ]
  },
  {
   "cell_type": "code",
   "execution_count": 13,
   "metadata": {},
   "outputs": [
    {
     "name": "stdout",
     "output_type": "stream",
     "text": [
      "395/395 [==============================] - 6s 10ms/step\n"
     ]
    }
   ],
   "source": [
    "y_test=pd.read_csv(\"./archive/Test.csv\")\n",
    "\n",
    "labels=y_test[\"ClassId\"].values\n",
    "imgs=y_test[\"Path\"].values\n",
    "\n",
    "data=[]\n",
    "\n",
    "for img in imgs:\n",
    "    image=Image.open(\"./archive/\"+img)\n",
    "    image=image.resize(img_resize)\n",
    "    data.append(np.array(image))\n",
    "\n",
    "X_test=np.array(data)\n",
    "\n",
    "pred=np.argmax(model.predict(X_test), axis=-1)"
   ]
  },
  {
   "cell_type": "markdown",
   "metadata": {},
   "source": [
    "<p>From sklearn.metrics, we imported accuracy_score and observed that our model predicted actual labels and we achieved a 95.17% accuracy.</p>\n",
    "\n",
    "<p>We are going to save the model that we have trained using keras model.save() function</p>"
   ]
  },
  {
   "cell_type": "code",
   "execution_count": 14,
   "metadata": {},
   "outputs": [
    {
     "name": "stdout",
     "output_type": "stream",
     "text": [
      "0.9517022961203484\n"
     ]
    }
   ],
   "source": [
    "print(accuracy_score(labels, pred))\n",
    "\n",
    "model.save('traffic_classifier.h5')"
   ]
  }
 ],
 "metadata": {
  "kernelspec": {
   "display_name": "Python 3.10.5 ('venv': venv)",
   "language": "python",
   "name": "python3"
  },
  "language_info": {
   "codemirror_mode": {
    "name": "ipython",
    "version": 3
   },
   "file_extension": ".py",
   "mimetype": "text/x-python",
   "name": "python",
   "nbconvert_exporter": "python",
   "pygments_lexer": "ipython3",
   "version": "3.10.5"
  },
  "orig_nbformat": 4,
  "vscode": {
   "interpreter": {
    "hash": "0f19e5dc2bee06b2b6d0753d880abccac9ebc430aeffcef4cd632833415269be"
   }
  }
 },
 "nbformat": 4,
 "nbformat_minor": 2
}
